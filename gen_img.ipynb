{
 "cells": [
  {
   "cell_type": "code",
   "execution_count": 1,
   "metadata": {},
   "outputs": [],
   "source": [
    "import numpy as np\n",
    "import cv2\n",
    "import os"
   ]
  },
  {
   "cell_type": "code",
   "execution_count": 2,
   "metadata": {},
   "outputs": [],
   "source": [
    "spacing = {\n",
    "    \"single_ch\": [14.3, 15.3, 16.3, 17.8, 19.3, 21.3, 23.3, 26.3, 28.3, 31.3, 36.3],\n",
    "    \"18GHz\": [18, 19, 20, 23, 25, 27, 30, 32, 35, 40],\n",
    "    \"17.6GHz\": [18, 19, 20, 21.5, 23, 25, 27, 30, 32, 35, 40],\n",
    "    \"17GHz\": [18, 19, 20, 21.5, 23, 25, 27, 30, 32, 35, 40],\n",
    "    \"16.5GHz\": [18, 19, 20, 21.5, 23, 25, 27, 30, 32, 35, 40],\n",
    "    \"16GHz\": [18, 19, 20, 21.5, 23, 25, 27, 30, 32, 35, 40],\n",
    "    \"15.5GHz\": [20, 21.5, 23, 25, 27, 30, 32, 35, 40],\n",
    "    \"15GHz\": [23, 25, 27, 30, 32, 35, 40],\n",
    "}"
   ]
  },
  {
   "cell_type": "code",
   "execution_count": 3,
   "metadata": {},
   "outputs": [],
   "source": [
    "n_samples = 12096\n",
    "directory = \"DB_EXP_3x16Gbaud\"\n",
    "\n",
    "for key, value in spacing.items():\n",
    "    for val in value:\n",
    "        path = os.path.join(directory, key, \"16QAM_3x16GBd_consY{}dB.csv\".format(val))\n",
    "        data = np.loadtxt(path, delimiter=\",\", skiprows=1)\n",
    "        n = int(data.shape[0] / n_samples)\n",
    "\n",
    "        for i in range(n):\n",
    "            data_sample = data[i * n_samples:(i + 1) * n_samples]\n",
    "\n",
    "            # Histogram\n",
    "            x = data_sample[:, 0]\n",
    "            y = data_sample[:, 1]\n",
    "            H, _, _ = np.histogram2d(x, y, bins=64, range=[[-5, 5], [-5, 5]])\n",
    "            H = cv2.normalize(H, None, 0, 255, cv2.NORM_MINMAX, cv2.CV_8U)\n",
    "\n",
    "            H = cv2.applyColorMap(H, cv2.COLORMAP_JET)\n",
    "\n",
    "            # Check if the output directory exists\n",
    "            if not os.path.exists(os.path.join(\"const\", key)):\n",
    "                os.makedirs(os.path.join(\"const\", key))\n",
    "\n",
    "            # Save the histogram in the output directory\n",
    "            cv2.imwrite(os.path.join(\"const\", key, \"{}_dB_sample_{}.png\".format(val, i)), H)"
   ]
  }
 ],
 "metadata": {
  "kernelspec": {
   "display_name": "base",
   "language": "python",
   "name": "python3"
  },
  "language_info": {
   "codemirror_mode": {
    "name": "ipython",
    "version": 3
   },
   "file_extension": ".py",
   "mimetype": "text/x-python",
   "name": "python",
   "nbconvert_exporter": "python",
   "pygments_lexer": "ipython3",
   "version": "3.11.7"
  }
 },
 "nbformat": 4,
 "nbformat_minor": 2
}
